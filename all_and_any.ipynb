{
  "nbformat": 4,
  "nbformat_minor": 0,
  "metadata": {
    "colab": {
      "name": "all_and_any.ipynb",
      "provenance": [],
      "authorship_tag": "ABX9TyPR+BFLDOUHa7tM8s32T0At",
      "include_colab_link": true
    },
    "kernelspec": {
      "name": "python3",
      "display_name": "Python 3"
    }
  },
  "cells": [
    {
      "cell_type": "markdown",
      "metadata": {
        "id": "view-in-github",
        "colab_type": "text"
      },
      "source": [
        "<a href=\"https://colab.research.google.com/github/computacao-io/python_built-in_functions/blob/all_and_any/all_and_any.ipynb\" target=\"_parent\"><img src=\"https://colab.research.google.com/assets/colab-badge.svg\" alt=\"Open In Colab\"/></a>"
      ]
    },
    {
      "cell_type": "markdown",
      "metadata": {
        "id": "gRaEVdNAict2",
        "colab_type": "text"
      },
      "source": [
        "# Built-in Functions"
      ]
    },
    {
      "cell_type": "markdown",
      "metadata": {
        "id": "jWnxgKjHie7p",
        "colab_type": "text"
      },
      "source": [
        "## All and any"
      ]
    },
    {
      "cell_type": "markdown",
      "metadata": {
        "id": "o-nw5D5MjpA_",
        "colab_type": "text"
      },
      "source": [
        "### Truth table\n",
        "\n",
        "| | all | any |\n",
        "|---|---|---|\n",
        "| All Truthy values | True  | True  |\n",
        "| All Falsy values | False | False |\n",
        "| One Truthy value (all others are Falsy) | False | True  |\n",
        "| One Falsy value (all others are Truthy) | False | True  |\n",
        "| Empty Iterable | True  | False |"
      ]
    },
    {
      "cell_type": "markdown",
      "metadata": {
        "id": "7yQfI1Jppmyc",
        "colab_type": "text"
      },
      "source": [
        "### All"
      ]
    },
    {
      "cell_type": "code",
      "metadata": {
        "id": "c1S7b-MbQlkc",
        "colab_type": "code",
        "colab": {
          "base_uri": "https://localhost:8080/",
          "height": 35
        },
        "outputId": "7c93e7b6-836a-4627-e5d3-7854c60c28e8"
      },
      "source": [
        "sample_list1 = [True, True, True, True]\n",
        "print(all(sample_list1))"
      ],
      "execution_count": 10,
      "outputs": [
        {
          "output_type": "stream",
          "text": [
            "True\n"
          ],
          "name": "stdout"
        }
      ]
    },
    {
      "cell_type": "code",
      "metadata": {
        "id": "MNEJaFKHROB8",
        "colab_type": "code",
        "colab": {
          "base_uri": "https://localhost:8080/",
          "height": 35
        },
        "outputId": "33317014-7a46-4b39-8987-51bf6078d508"
      },
      "source": [
        "sample_list2 = [False, True, True, False]\n",
        "print(all(sample_list2))"
      ],
      "execution_count": 11,
      "outputs": [
        {
          "output_type": "stream",
          "text": [
            "False\n"
          ],
          "name": "stdout"
        }
      ]
    },
    {
      "cell_type": "code",
      "metadata": {
        "id": "yQL8sEn2RiAf",
        "colab_type": "code",
        "colab": {
          "base_uri": "https://localhost:8080/",
          "height": 35
        },
        "outputId": "77e99ab8-875a-4e85-e552-1a343e0c6f63"
      },
      "source": [
        "sample_list3 = [False, False, False]\n",
        "print(all(sample_list3))"
      ],
      "execution_count": 12,
      "outputs": [
        {
          "output_type": "stream",
          "text": [
            "False\n"
          ],
          "name": "stdout"
        }
      ]
    },
    {
      "cell_type": "code",
      "metadata": {
        "id": "u5v7U50RRx-z",
        "colab_type": "code",
        "colab": {}
      },
      "source": [
        "list1 = []\n",
        "list2 = []\n",
        "\n",
        "for i in range(1, 21):\n",
        "  list1.append((4 * i) - 3)\n",
        "\n",
        "for i in range(0, 20):\n",
        "  list2.append(list1[i] % 2 == 1)"
      ],
      "execution_count": 0,
      "outputs": []
    },
    {
      "cell_type": "code",
      "metadata": {
        "id": "hZWAk3rySokC",
        "colab_type": "code",
        "colab": {
          "base_uri": "https://localhost:8080/",
          "height": 35
        },
        "outputId": "3d11653f-69cf-4aed-c794-4808d23657bf"
      },
      "source": [
        "print(all(list2))"
      ],
      "execution_count": 14,
      "outputs": [
        {
          "output_type": "stream",
          "text": [
            "True\n"
          ],
          "name": "stdout"
        }
      ]
    },
    {
      "cell_type": "code",
      "metadata": {
        "id": "T9IzEW-0S0Xl",
        "colab_type": "code",
        "colab": {
          "base_uri": "https://localhost:8080/",
          "height": 35
        },
        "outputId": "bda64480-35cc-4d4f-8c16-ea1d55dc5a64"
      },
      "source": [
        "def custom_all(iterable):\n",
        "  for i in iterable:\n",
        "    if not i:\n",
        "      return False\n",
        "    return True\n",
        "\n",
        "print(custom_all(list2))"
      ],
      "execution_count": 15,
      "outputs": [
        {
          "output_type": "stream",
          "text": [
            "True\n"
          ],
          "name": "stdout"
        }
      ]
    },
    {
      "cell_type": "markdown",
      "metadata": {
        "id": "cJhqRS38TrSs",
        "colab_type": "text"
      },
      "source": [
        "### Any"
      ]
    },
    {
      "cell_type": "code",
      "metadata": {
        "id": "logT3IzMTvxW",
        "colab_type": "code",
        "colab": {
          "base_uri": "https://localhost:8080/",
          "height": 35
        },
        "outputId": "878d9a20-4de1-4446-dd71-14d63ab03299"
      },
      "source": [
        "sample_list1 = [False, False, False, False]\n",
        "print(any(sample_list1))"
      ],
      "execution_count": 16,
      "outputs": [
        {
          "output_type": "stream",
          "text": [
            "False\n"
          ],
          "name": "stdout"
        }
      ]
    },
    {
      "cell_type": "code",
      "metadata": {
        "id": "zTdhcCaHUFJz",
        "colab_type": "code",
        "colab": {
          "base_uri": "https://localhost:8080/",
          "height": 35
        },
        "outputId": "afe6e16f-8d78-4ef9-e080-ee2795f907b9"
      },
      "source": [
        "sample_list2 = [False, True, False, False]\n",
        "print(any(sample_list2))"
      ],
      "execution_count": 17,
      "outputs": [
        {
          "output_type": "stream",
          "text": [
            "True\n"
          ],
          "name": "stdout"
        }
      ]
    },
    {
      "cell_type": "code",
      "metadata": {
        "id": "Q6xYb1uTUSG7",
        "colab_type": "code",
        "colab": {
          "base_uri": "https://localhost:8080/",
          "height": 35
        },
        "outputId": "3e06b136-7012-43df-9f84-b23d11e4765e"
      },
      "source": [
        "sample_list3 = [True, False, False, False]\n",
        "print(any(sample_list3))"
      ],
      "execution_count": 18,
      "outputs": [
        {
          "output_type": "stream",
          "text": [
            "True\n"
          ],
          "name": "stdout"
        }
      ]
    },
    {
      "cell_type": "code",
      "metadata": {
        "id": "Sbe-BqOVUpQ5",
        "colab_type": "code",
        "colab": {
          "base_uri": "https://localhost:8080/",
          "height": 35
        },
        "outputId": "1eb9c627-bc25-4899-e67e-9aeebafa9011"
      },
      "source": [
        "def custom_any(iterable):\n",
        "  for i in iterable:\n",
        "    if i:\n",
        "      return True\n",
        "    return False\n",
        "\n",
        "print(custom_any(sample_list3))"
      ],
      "execution_count": 19,
      "outputs": [
        {
          "output_type": "stream",
          "text": [
            "True\n"
          ],
          "name": "stdout"
        }
      ]
    },
    {
      "cell_type": "code",
      "metadata": {
        "id": "cFmAoOLGVGCl",
        "colab_type": "code",
        "colab": {}
      },
      "source": [
        "list1 = []\n",
        "list2 = []\n",
        "\n",
        "for i in range (1, 11):\n",
        "  list1.append(4 * i)\n",
        "\n",
        "for i in range(0, 10):\n",
        "  list2.append(list1[i] % 5 == 0)"
      ],
      "execution_count": 0,
      "outputs": []
    },
    {
      "cell_type": "code",
      "metadata": {
        "id": "zS0RvytYVr5K",
        "colab_type": "code",
        "colab": {
          "base_uri": "https://localhost:8080/",
          "height": 35
        },
        "outputId": "cffd9f11-dcca-4804-9a3e-291267573427"
      },
      "source": [
        "print(any(list2))"
      ],
      "execution_count": 21,
      "outputs": [
        {
          "output_type": "stream",
          "text": [
            "True\n"
          ],
          "name": "stdout"
        }
      ]
    },
    {
      "cell_type": "code",
      "metadata": {
        "id": "4fcZTcOnWHLk",
        "colab_type": "code",
        "colab": {
          "base_uri": "https://localhost:8080/",
          "height": 35
        },
        "outputId": "b107342a-6ec7-449f-f3c4-29d28b10456a"
      },
      "source": [
        "print(custom_any(list2))"
      ],
      "execution_count": 22,
      "outputs": [
        {
          "output_type": "stream",
          "text": [
            "False\n"
          ],
          "name": "stdout"
        }
      ]
    },
    {
      "cell_type": "markdown",
      "metadata": {
        "id": "CT1oUjlXm3su",
        "colab_type": "text"
      },
      "source": [
        "## Reference\n",
        "\n",
        "* [GeekforGeeks;](https://www.geeksforgeeks.org/any-all-in-python/)\n",
        "* The Python Standard Library (Documentation):\n",
        "  * [all;](https://docs.python.org/3/library/functions.html#all)\n",
        "  * [any;](https://docs.python.org/3/library/functions.html#any)"
      ]
    }
  ]
}