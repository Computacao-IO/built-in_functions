{
  "nbformat": 4,
  "nbformat_minor": 0,
  "metadata": {
    "colab": {
      "name": "Untitled2.ipynb",
      "provenance": [],
      "authorship_tag": "ABX9TyPIK0p6PAlI6Z/Id6fmzAOs",
      "include_colab_link": true
    },
    "kernelspec": {
      "name": "python3",
      "display_name": "Python 3"
    }
  },
  "cells": [
    {
      "cell_type": "markdown",
      "metadata": {
        "id": "view-in-github",
        "colab_type": "text"
      },
      "source": [
        "<a href=\"https://colab.research.google.com/github/computacao-io/python_built-in_functions/blob/set/set.ipynb\" target=\"_parent\"><img src=\"https://colab.research.google.com/assets/colab-badge.svg\" alt=\"Open In Colab\"/></a>"
      ]
    },
    {
      "cell_type": "markdown",
      "metadata": {
        "id": "KCQ1yijS14BS",
        "colab_type": "text"
      },
      "source": [
        "# Built-in Functions"
      ]
    },
    {
      "cell_type": "markdown",
      "metadata": {
        "id": "LvFNOh7X2THx",
        "colab_type": "text"
      },
      "source": [
        "## Set"
      ]
    },
    {
      "cell_type": "markdown",
      "metadata": {
        "id": "JhNLklsh1gyB",
        "colab_type": "text"
      },
      "source": [
        "### Input:\n",
        "A = {0, 2, 4, 6, 8}  \n",
        "B = {1, 2, 3, 4, 5}"
      ]
    },
    {
      "cell_type": "code",
      "metadata": {
        "id": "gRhUhfHj5KTn",
        "colab_type": "code",
        "colab": {}
      },
      "source": [
        "a = {0, 2, 4, 6, 8}\n",
        "b = {1, 2, 3, 4, 5}"
      ],
      "execution_count": 0,
      "outputs": []
    },
    {
      "cell_type": "code",
      "metadata": {
        "id": "IM8_Xzpf52eD",
        "colab_type": "code",
        "colab": {
          "base_uri": "https://localhost:8080/",
          "height": 35
        },
        "outputId": "caefac72-fbd7-4681-bef4-c27b64f95d1c"
      },
      "source": [
        "union = a | b\n",
        "print(union)"
      ],
      "execution_count": 3,
      "outputs": [
        {
          "output_type": "stream",
          "text": [
            "{0, 1, 2, 3, 4, 5, 6, 8}\n"
          ],
          "name": "stdout"
        }
      ]
    },
    {
      "cell_type": "code",
      "metadata": {
        "id": "yEKh1rSG6KsD",
        "colab_type": "code",
        "colab": {
          "base_uri": "https://localhost:8080/",
          "height": 35
        },
        "outputId": "226ce703-865b-4a69-97b8-a4b867c5ca0d"
      },
      "source": [
        "intersection = a & b\n",
        "print(intersection)"
      ],
      "execution_count": 4,
      "outputs": [
        {
          "output_type": "stream",
          "text": [
            "{2, 4}\n"
          ],
          "name": "stdout"
        }
      ]
    },
    {
      "cell_type": "code",
      "metadata": {
        "id": "EtYEbTfW6XgE",
        "colab_type": "code",
        "colab": {
          "base_uri": "https://localhost:8080/",
          "height": 53
        },
        "outputId": "0946cf3f-45ca-4b04-9b88-e8db134b58d2"
      },
      "source": [
        "difference = a - b\n",
        "print(difference)\n",
        "\n",
        "difference_invert = b - a\n",
        "print(difference_invert)"
      ],
      "execution_count": 6,
      "outputs": [
        {
          "output_type": "stream",
          "text": [
            "{0, 8, 6}\n",
            "{1, 3, 5}\n"
          ],
          "name": "stdout"
        }
      ]
    },
    {
      "cell_type": "code",
      "metadata": {
        "id": "oTasBWiQ63LQ",
        "colab_type": "code",
        "colab": {
          "base_uri": "https://localhost:8080/",
          "height": 35
        },
        "outputId": "a319f85f-72be-4582-a0dc-40f8d46c18dd"
      },
      "source": [
        "symmetric_difference = a ^ b\n",
        "print(symmetric_difference)"
      ],
      "execution_count": 7,
      "outputs": [
        {
          "output_type": "stream",
          "text": [
            "{0, 1, 3, 5, 6, 8}\n"
          ],
          "name": "stdout"
        }
      ]
    },
    {
      "cell_type": "code",
      "metadata": {
        "id": "cpRmMARc7SEM",
        "colab_type": "code",
        "colab": {
          "base_uri": "https://localhost:8080/",
          "height": 35
        },
        "outputId": "09fc5eaf-e6a3-4c71-a72b-fb6a9231d172"
      },
      "source": [
        "lista = [1, 2, 3, 4, 4, 1, 2]\n",
        "conjunto = set(lista)\n",
        "print(list(conjunto))"
      ],
      "execution_count": 9,
      "outputs": [
        {
          "output_type": "stream",
          "text": [
            "[1, 2, 3, 4]\n"
          ],
          "name": "stdout"
        }
      ]
    }
  ]
}